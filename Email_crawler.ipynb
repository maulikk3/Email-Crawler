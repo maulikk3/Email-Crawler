{
  "nbformat": 4,
  "nbformat_minor": 0,
  "metadata": {
    "colab": {
      "provenance": [],
      "authorship_tag": "ABX9TyOcU+6V6FbhCQC6sSblVlLj",
      "include_colab_link": true
    },
    "kernelspec": {
      "name": "python3",
      "display_name": "Python 3"
    },
    "language_info": {
      "name": "python"
    }
  },
  "cells": [
    {
      "cell_type": "markdown",
      "metadata": {
        "id": "view-in-github",
        "colab_type": "text"
      },
      "source": [
        "<a href=\"https://colab.research.google.com/github/maulikk3/Email-Crawler/blob/main/Email_crawler.ipynb\" target=\"_parent\"><img src=\"https://colab.research.google.com/assets/colab-badge.svg\" alt=\"Open In Colab\"/></a>"
      ]
    },
    {
      "cell_type": "markdown",
      "source": [],
      "metadata": {
        "id": "MK5LuymAYQld"
      }
    },
    {
      "cell_type": "code",
      "execution_count": 5,
      "metadata": {
        "colab": {
          "base_uri": "https://localhost:8080/"
        },
        "id": "N7ZaGrzmVVj4",
        "outputId": "1b901df9-c891-478f-94fe-bbcd85410a33"
      },
      "outputs": [
        {
          "output_type": "stream",
          "name": "stdout",
          "text": [
            "Found emails:\n",
            "admission.educarebd@gmail.com\n",
            "admissions@chitkara.edu.in\n",
            "ajay.dhiman@chitkarauniversity.edu.in\n",
            "coe@chitkarauniversity.edu.in\n",
            "info@chitkarauniversity.edu.in\n",
            "rajesh.nepal@chitkara.edu.in\n",
            "wangdi@chitkara.edu.in\n"
          ]
        }
      ],
      "source": [
        "import requests\n",
        "from bs4 import BeautifulSoup\n",
        "import re\n",
        "\n",
        "# URL for CSE department page with email details\n",
        "url = \"https://www.chitkarauniversity.edu.in/contact-us/\"\n",
        "\n",
        "headers = {\n",
        "    \"User-Agent\": \"Mozilla/5.0\"\n",
        "}\n",
        "\n",
        "response = requests.get(url, headers=headers)\n",
        "if response.status_code != 200:\n",
        "    print(f\"Error: HTTP {response.status_code} fetching page.\")\n",
        "    exit()\n",
        "\n",
        "soup = BeautifulSoup(response.text, 'html.parser')\n",
        "text = soup.get_text()\n",
        "\n",
        "emails = re.findall(r\"[a-zA-Z0-9._%+-]+@[a-zA-Z0-9.-]+\\.[a-zA-Z]{2,}\", text)\n",
        "unique_emails = set(emails)\n",
        "\n",
        "print(\"Found emails:\")\n",
        "for email in sorted(unique_emails):\n",
        "    print(email)\n"
      ]
    },
    {
      "cell_type": "code",
      "source": [],
      "metadata": {
        "id": "WVAuzYzrYQHB"
      },
      "execution_count": null,
      "outputs": []
    }
  ]
}